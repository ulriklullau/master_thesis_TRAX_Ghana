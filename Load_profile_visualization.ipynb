{
 "cells": [
  {
   "cell_type": "code",
   "execution_count": null,
   "metadata": {},
   "outputs": [],
   "source": [
    "import matplotlib.pyplot as plt\n",
    "import numpy as np \n",
    "import pandas as pd"
   ]
  },
  {
   "cell_type": "markdown",
   "metadata": {},
   "source": [
    "# Code for visualiation of daily and monthly load profiles\n",
    "\n",
    "This file contains two functions used for visualization of the load profiles.  \n",
    "\n",
    "load_profile_plot() plots the average daily and monthly load profiles, as well as the load duration curve for the facility.\n",
    "\n",
    "specific_load_profiles() plots the sesonal specific daily load profile."
   ]
  },
  {
   "cell_type": "code",
   "execution_count": null,
   "metadata": {},
   "outputs": [],
   "source": [
    "def load_profile_plot(csv_file_path):\n",
    "    # Load the data from the CSV file\n",
    "    data = pd.read_csv(csv_file_path)\n",
    "\n",
    "    # Calculate hourly averages across months\n",
    "    hourly_average = data.set_index(\"Time\").mean(axis=1)\n",
    "\n",
    "    # Calculate metrics\n",
    "    total_energy_consumption = hourly_average.sum()  # Total energy in kWh\n",
    "    peak_load = hourly_average.max()  # Peak load in kW\n",
    "\n",
    "    # Plot Daily Load Profile\n",
    "    plt.figure(figsize=(10, 6))\n",
    "    hourly_average.plot(kind='line', title='Daily Load Profile', ylabel='Load (kW)', xlabel='Hour')\n",
    "    plt.grid()\n",
    "\n",
    "    # Display calculated metrics\n",
    "    print(f\"Total Energy Consumption: {total_energy_consumption:.2f} kWh\")\n",
    "    print(f\"Peak Load: {peak_load:.2f} kW\")"
   ]
  },
  {
   "cell_type": "code",
   "execution_count": null,
   "metadata": {},
   "outputs": [],
   "source": [
    "\n",
    "def specific_load_profiles(csv_file_path):\n",
    "    # Load the data from the CSV file\n",
    "    data = pd.read_csv(csv_file_path)\n",
    "    \n",
    "    # Define rainy and dry seasons with their corresponding months\n",
    "    seasons = {\n",
    "        \"Rainy\": [\"May\", \"June\", \"July\", \"August\", \"September\", \"October\"],\n",
    "        \"Dry\": [\"November\", \"December\", \"January\", \"February\", \"March\", \"April\"],\n",
    "    }\n",
    "\n",
    "    # Initialize a dictionary to store seasonal profiles\n",
    "    seasonal_profiles = {}\n",
    "\n",
    "    for season, months in seasons.items():\n",
    "        # Filter columns based on season months\n",
    "        season_columns = [col for col in data.columns if any(month in col for month in months)]\n",
    "        season_data = data[[\"Time\"] + season_columns]\n",
    "\n",
    "        # Calculate the average daily load profile for the season\n",
    "        seasonal_profiles[season] = season_data.set_index(\"Time\").mean(axis=1)\n",
    "\n",
    "    # Plot the profiles for both seasons\n",
    "    plt.figure(figsize=(10, 6))\n",
    "\n",
    "    for season, profile in seasonal_profiles.items():\n",
    "        plt.plot(profile, label=f\"{season} Season\")\n",
    "    plt.xticks(ticks=np.arange(0, 24, 5))\n",
    "    plt.title(\"Daily Load Profiles for Rainy and Dry Seasons\")\n",
    "    plt.xlabel(\"Hour\")\n",
    "    plt.ylabel(\"Load (kW)\")\n",
    "    plt.legend()\n",
    "    plt.grid()\n",
    "    plt.show()"
   ]
  },
  {
   "cell_type": "code",
   "execution_count": null,
   "metadata": {},
   "outputs": [],
   "source": [
    "def calculate_energy_consumption(csv_file_path):\n",
    "    # Load the data from the CSV file\n",
    "    data = pd.read_csv(csv_file_path)\n",
    "\n",
    "    # Sum up the average daily load for each month directly\n",
    "    monthly_energy_consumption = {\n",
    "        month: data[month].sum() for month in data.columns if month != \"Time\"\n",
    "    }\n",
    "\n",
    "    # Calculate the total yearly energy consumption\n",
    "    yearly_energy_consumption = sum(monthly_energy_consumption.values())\n",
    "\n",
    "    # Print the results\n",
    "    print(\"Monthly Energy Consumption (kWh):\")\n",
    "    for month, consumption in monthly_energy_consumption.items():\n",
    "        print(f\"{month}: {consumption:.2f} kWh\")\n",
    "    print(f\"\\nTotal Yearly Energy Consumption: {yearly_energy_consumption:.2f} kWh\")\n",
    "\n",
    "    # Define colors for the seasons\n",
    "    rainy_season_months = [\"May\", \"June\", \"July\", \"August\", \"September\", \"October\"]\n",
    "    colors = [\n",
    "        \"steelblue\" if month in rainy_season_months else \"orange\" for month in monthly_energy_consumption.keys()\n",
    "    ]\n",
    "\n",
    "    # Plot the monthly energy consumption\n",
    "    plt.figure(figsize=(10, 6))\n",
    "    pd.Series(monthly_energy_consumption).plot(\n",
    "        kind='bar', color=colors, title='Monthly Energy Consumption', ylabel='Energy (kWh)', xlabel='Month'\n",
    "    )\n",
    "    plt.grid(axis='y')\n",
    "    plt.show()"
   ]
  },
  {
   "cell_type": "code",
   "execution_count": null,
   "metadata": {},
   "outputs": [],
   "source": [
    "# Run the functions with the CSV file path\n",
    "csv_file_path = \"Data_files/Full_year_average.csv\"\n",
    "load_profile_plot(csv_file_path)\n",
    "specific_load_profiles(csv_file_path)\n",
    "calculate_energy_consumption(csv_file_path)"
   ]
  }
 ],
 "metadata": {
  "kernelspec": {
   "display_name": "EMESP_env1",
   "language": "python",
   "name": "python3"
  },
  "language_info": {
   "codemirror_mode": {
    "name": "ipython",
    "version": 3
   },
   "file_extension": ".py",
   "mimetype": "text/x-python",
   "name": "python",
   "nbconvert_exporter": "python",
   "pygments_lexer": "ipython3",
   "version": "3.10.11"
  }
 },
 "nbformat": 4,
 "nbformat_minor": 2
}
